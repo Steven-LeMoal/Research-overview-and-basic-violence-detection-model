{
  "metadata": {
    "colab": {
      "provenance": [],
      "include_colab_link": true
    },
    "kernelspec": {
      "name": "python3",
      "display_name": "Python 3",
      "language": "python"
    },
    "language_info": {
      "name": "python",
      "version": "3.7.12",
      "mimetype": "text/x-python",
      "codemirror_mode": {
        "name": "ipython",
        "version": 3
      },
      "pygments_lexer": "ipython3",
      "nbconvert_exporter": "python",
      "file_extension": ".py"
    },
    "gpuClass": "premium"
  },
  "nbformat_minor": 0,
  "nbformat": 4,
  "cells": [
    {
      "cell_type": "markdown",
      "metadata": {
        "id": "view-in-github",
        "colab_type": "text"
      },
      "source": [
        "<a href=\"https://colab.research.google.com/github/Steven-LeMoal/Research---Action-Violence-Recognition/blob/main/notebook_generator.ipynb\" target=\"_parent\"><img src=\"https://colab.research.google.com/assets/colab-badge.svg\" alt=\"Open In Colab\"/></a>"
      ]
    },
    {
      "cell_type": "markdown",
      "source": [
        "# Download dataset"
      ],
      "metadata": {
        "id": "9SpqLJpwgGdU"
      }
    },
    {
      "cell_type": "code",
      "source": [
        "from google.colab import drive\n",
        "drive.mount('/content/drive')"
      ],
      "metadata": {
        "colab": {
          "base_uri": "https://localhost:8080/"
        },
        "id": "YnfuGAHRp2NA",
        "outputId": "a7db14db-5e0d-448b-9903-4d1920595096"
      },
      "execution_count": null,
      "outputs": [
        {
          "output_type": "stream",
          "name": "stdout",
          "text": [
            "Mounted at /content/drive\n"
          ]
        }
      ]
    },
    {
      "cell_type": "code",
      "source": [
        "!pip install -q kaggle\n",
        "\n",
        "# Download Hockey Fights\n",
        "# !wget https://www.kaggle.com/frendon/hockeyfight/download\n",
        "\n",
        "# Download Movies Fights\n",
        "# !wget https://www.kaggle.com/frendon/moviefights/download\n",
        "\n",
        "# Download Violent Flows\n",
        "# !wget https://www.kaggle.com/frendon/violentflows/download\n",
        "\n",
        "# Download Real Life Violence Situations\n",
        "# !wget https://www.kaggle.com/mohamedmustafa/real-life-violence-situations-dataset/download\n",
        "\n",
        "############################### - uncomment bellow\n",
        "\n",
        "#%cd /content/drive/MyDrive/Colab_Notebooks/\n",
        "#from google.colab import files\n",
        "\n",
        "# This will prompt you to upload the kaggle.json\n",
        "#go in your kaggle parameters account and ask for an API token\n",
        "#files.upload()  \n",
        "\n",
        "#!mkdir -p ~/.kaggle\n",
        "#!cp kaggle.json ~/.kaggle/\n",
        "#!chmod 600 /root/.kaggle/kaggle.json  # set permission\n",
        "\n",
        "# Than copy the kaggle API\n",
        "#!kaggle datasets download -d frendon/hockeyfight\n",
        "#!kaggle datasets download -d frendon/moviefights\n",
        "#!kaggle datasets download -d frendon/violentflows\n",
        "#!kaggle datasets download -d mohamedmustafa/real-life-violence-situations-dataset\n",
        "\n",
        "# Make directory and unzip\n",
        "\n",
        "# Create a directory\n",
        "#!mkdir hockey_fights  \n",
        "#!mkdir movies_fights\n",
        "#!mkdir violent_flows\n",
        "#!mkdir rlvs\n",
        "\n",
        "# Unzip data\n",
        "#!unzip -q /content/drive/MyDrive/Colab_Notebooks/hockeyfight.zip -d /content/drive/MyDrive/Colab_Notebooks/hockey_fights/  \n",
        "#!unzip -q /content/drive/MyDrive/Colab_Notebooks/moviefights.zip -d /content/drive/MyDrive/Colab_Notebooks/movies_fights/\n",
        "#!unzip -q /content/drive/MyDrive/Colab_Notebooks/violentflows.zip -d /content/drive/MyDrive/Colab_Notebooks/violent_flows/\n",
        "#!unzip -q /content/drive/MyDrive/Colab_Notebooks/real-life-violence-situations-dataset.zip -d /content/drive/MyDrive/Colab_Notebooks/rlvs/"
      ],
      "metadata": {
        "id": "1rC1vnLEgGFV"
      },
      "execution_count": null,
      "outputs": []
    },
    {
      "cell_type": "markdown",
      "source": [
        "## Import Modules"
      ],
      "metadata": {
        "id": "wWftV5o39id2"
      }
    },
    {
      "cell_type": "code",
      "source": [
        "!pip install alive_progress"
      ],
      "metadata": {
        "colab": {
          "base_uri": "https://localhost:8080/"
        },
        "id": "R9bAsaZn9XN5",
        "outputId": "abba81e5-ec34-4ae5-a03f-7c2e48ae7a68"
      },
      "execution_count": null,
      "outputs": [
        {
          "output_type": "stream",
          "name": "stdout",
          "text": [
            "Looking in indexes: https://pypi.org/simple, https://us-python.pkg.dev/colab-wheels/public/simple/\n",
            "Collecting alive_progress\n",
            "  Downloading alive_progress-3.0.1-py3-none-any.whl (72 kB)\n",
            "\u001b[2K     \u001b[90m━━━━━━━━━━━━━━━━━━━━━━━━━━━━━━━━━━━━━━━━\u001b[0m \u001b[32m73.0/73.0 KB\u001b[0m \u001b[31m4.3 MB/s\u001b[0m eta \u001b[36m0:00:00\u001b[0m\n",
            "\u001b[?25hCollecting grapheme==0.6.0\n",
            "  Downloading grapheme-0.6.0.tar.gz (207 kB)\n",
            "\u001b[2K     \u001b[90m━━━━━━━━━━━━━━━━━━━━━━━━━━━━━━━━━━━━━━\u001b[0m \u001b[32m207.3/207.3 KB\u001b[0m \u001b[31m14.9 MB/s\u001b[0m eta \u001b[36m0:00:00\u001b[0m\n",
            "\u001b[?25h  Preparing metadata (setup.py) ... \u001b[?25l\u001b[?25hdone\n",
            "Collecting about-time==4.2.1\n",
            "  Downloading about_time-4.2.1-py3-none-any.whl (13 kB)\n",
            "Building wheels for collected packages: grapheme\n",
            "  Building wheel for grapheme (setup.py) ... \u001b[?25l\u001b[?25hdone\n",
            "  Created wheel for grapheme: filename=grapheme-0.6.0-py3-none-any.whl size=210096 sha256=a39ca7bf9ecfbfd6a91ea618da19e3653eaeb970a4d27e23cb12fe8fdefafe25\n",
            "  Stored in directory: /root/.cache/pip/wheels/2d/08/6b/126ea9009f7482fd53a78d0db2ece5aca70af8f4a30445386b\n",
            "Successfully built grapheme\n",
            "Installing collected packages: grapheme, about-time, alive_progress\n",
            "Successfully installed about-time-4.2.1 alive_progress-3.0.1 grapheme-0.6.0\n"
          ]
        }
      ]
    },
    {
      "cell_type": "code",
      "source": [
        "import os\n",
        "import shutil\n",
        "import cv2\n",
        "import sys\n",
        "import random\n",
        "import glob\n",
        "import numpy as np\n",
        "import warnings\n",
        "import time\n",
        "import datetime as dt\n",
        "from alive_progress import alive_bar\n",
        "import tensorflow as tf\n",
        "from tensorflow import keras\n",
        "import matplotlib.pyplot as plt\n",
        "plt.style.use(\"seaborn\")\n",
        "\n",
        "%matplotlib inline\n",
        " \n",
        "from tensorflow.keras.layers import *\n",
        "from tensorflow.keras.models import Sequential\n",
        "from tensorflow.keras.utils import to_categorical\n",
        "from tensorflow.keras.callbacks import EarlyStopping, ModelCheckpoint, ReduceLROnPlateau, Callback\n",
        "from tensorflow.keras.utils import plot_model\n",
        "\n",
        "import sklearn\n",
        "from sklearn.model_selection import StratifiedKFold\n",
        "from keras import Model\n",
        "from keras.utils import np_utils"
      ],
      "metadata": {
        "id": "GXuB9QkMc4lO"
      },
      "execution_count": null,
      "outputs": []
    },
    {
      "cell_type": "code",
      "source": [
        "warnings.filterwarnings('ignore')\n",
        "\n",
        "#look documentation : https://www.kaggle.com/docs/tpu\n",
        "try:\n",
        "    tpu = tf.distribute.cluster_resolver.TPUClusterResolver.connect()\n",
        "    print('Running on TPU ', tpu.master())\n",
        "except ValueError:\n",
        "    tpu = None\n",
        "\n",
        "if tpu:\n",
        "    print(\"TPU\")\n",
        "    strategy = tf.distribute.experimental.TPUStrategy(tpu)\n",
        "else:\n",
        "    print(\"GPU\")\n",
        "    strategy = tf.distribute.get_strategy() \n",
        "\n",
        "print(\"REPLICAS: \", strategy.num_replicas_in_sync)"
      ],
      "metadata": {
        "colab": {
          "base_uri": "https://localhost:8080/"
        },
        "id": "Bf0yy-pwD8G8",
        "outputId": "32b243be-d4bd-489d-9eea-14cda0711d63"
      },
      "execution_count": null,
      "outputs": [
        {
          "output_type": "stream",
          "name": "stdout",
          "text": [
            "GPU\n",
            "REPLICAS:  1\n"
          ]
        }
      ]
    },
    {
      "cell_type": "markdown",
      "source": [
        "## Utils Functions for Pre-processing Data "
      ],
      "metadata": {
        "id": "k5crb3B59rsQ"
      }
    },
    {
      "cell_type": "code",
      "source": [
        "class Stream_Features(object):\n",
        "    def __init__(self, heigh, width, frame, stream = [\"RGB\"]):\n",
        "        self.height = heigh\n",
        "        self.width = width\n",
        "        self.time = frame\n",
        "        self.stream = stream\n",
        "    \n",
        "    def get_video_from_stream(self, path):\n",
        "        '''\n",
        "        The get_video_from_stream function reads a video path (or multiple of the same if already process features) and returns a list of list of frames (type of stream defined) as output.\n",
        "        '''\n",
        "        res = []\n",
        "        length = len(path)\n",
        "        dico = {\"RGB\": self.extract_videos3D, \n",
        "                \"Optical_flow\":self.extract_videos3D_optical_flow,\n",
        "                \"Difference\":self.extract_videos3D_frames_substraction}\n",
        "        if length > 1:\n",
        "          for feature in self.stream:\n",
        "            res.append(self.get_frames(dico[feature](path[0])))\n",
        "        else:\n",
        "          for cnt in range(length):\n",
        "            res.append(self.get_frames(dico[\"RGB\"](path[cnt])))\n",
        "            \n",
        "        return res\n",
        "    \n",
        "    def get_frames(self, sequence):\n",
        "        '''\n",
        "        The get_frames function reads list of frames and returns list of specific number of frames .\n",
        "        '''\n",
        "        length_arr = len(sequence)\n",
        "\n",
        "        if length_arr < self.time:\n",
        "            while len(sequence) < self.time:\n",
        "                sequence.append(sequence[-1])\n",
        "        else:\n",
        "            sequence = np.array(sequence)[np.round(np.linspace(0, length_arr - 1, self.time)).astype(int)]\n",
        "        #print(len(sequence))\n",
        "        return sequence \n",
        "\n",
        "    def extract_videos3D(self,path):\n",
        "        '''\n",
        "        The extract_videos3D function reads a video and returns a list of frames as output.\n",
        "        '''\n",
        "        video_frames = list()\n",
        "        cap = cv2.VideoCapture(path)\n",
        "        while cap.isOpened():\n",
        "\n",
        "            ret, frame = cap.read()\n",
        "\n",
        "            if ret:\n",
        "                frame = cv2.resize(frame, (self.width, self.height))\n",
        "                #frame = frame / 255\n",
        "                video_frames.append(frame)\n",
        "\n",
        "            else:\n",
        "                break\n",
        "\n",
        "        cap.release()\n",
        "        return video_frames\n",
        "\n",
        "\n",
        "    def extract_videos3D_optical_flow(self,path):\n",
        "        '''\n",
        "        The extract_videos3D function reads a video and returns as output a list of frames processed as optical flow.\n",
        "        '''\n",
        "        video_frames_optical_flow = list()\n",
        "        i = 0\n",
        "        cap = cv2.VideoCapture(path)\n",
        "        ret1, frame1 = cap.read()\n",
        "        frame1 = cv2.resize(frame1, (self.width, self.height))\n",
        "        prvs = cv2.cvtColor(frame1, cv2.COLOR_BGR2GRAY)\n",
        "        hsv = np.zeros_like(frame1)\n",
        "        hsv[..., 1] = 255\n",
        "\n",
        "        if not cap.isOpened():\n",
        "            print(\"Error opening video stream or file\")\n",
        "\n",
        "        while cap.isOpened():\n",
        "\n",
        "            ret2, frame2 = cap.read()\n",
        "\n",
        "            if ret2:\n",
        "\n",
        "                frame2 = cv2.resize(frame2, (self.width, self.height))\n",
        "                next = cv2.cvtColor(frame2, cv2.COLOR_BGR2GRAY)\n",
        "                flow = cv2.calcOpticalFlowFarneback(prvs, next, None, 0.5, 3, 15, 3, 5, 1.2, 0)\n",
        "                mag, ang = cv2.cartToPolar(flow[..., 0], flow[..., 1])\n",
        "                hsv[..., 0] = ang * 180 / np.pi / 2\n",
        "                hsv[..., 2] = cv2.normalize(mag, None, 0, 255, cv2.NORM_MINMAX)\n",
        "                bgr = cv2.cvtColor(hsv, cv2.COLOR_HSV2BGR)\n",
        "                video_frames_optical_flow.append(bgr)\n",
        "            else:\n",
        "                break\n",
        "\n",
        "            i += 1\n",
        "            prvs = next\n",
        "\n",
        "        cap.release()\n",
        "        return video_frames_optical_flow\n",
        "\n",
        "\n",
        "    def extract_videos3D_frames_substraction(self,path):\n",
        "        '''\n",
        "        The extract_videos3D function reads a video and returns as output a list of frames processed as the subtraction between two consecutive frames.\n",
        "        '''\n",
        "        video_frames = list()\n",
        "        cap = cv2.VideoCapture(path)\n",
        "        ret1, frame1 = cap.read()\n",
        "        frame1 = cv2.resize(frame1, (self.width, self.height))\n",
        "\n",
        "        while cap.isOpened():\n",
        "\n",
        "            ret2, frame2 = cap.read()\n",
        "            if ret2:\n",
        "                frame2 = cv2.resize(frame2, (self.width, self.height))\n",
        "                frame = frame1 - frame2\n",
        "                video_frames.append(frame)\n",
        "            else:\n",
        "                break\n",
        "\n",
        "            frame1 = frame2\n",
        "\n",
        "        cap.release()\n",
        "        return video_frames"
      ],
      "metadata": {
        "id": "VmeQ8jZyg08Q"
      },
      "execution_count": null,
      "outputs": []
    },
    {
      "cell_type": "markdown",
      "source": [
        "## Classifier Model Definition"
      ],
      "metadata": {
        "id": "etyvs8SB92YQ"
      }
    },
    {
      "cell_type": "code",
      "source": [
        "class VideoGenerator(object):\n",
        "\n",
        "    def __init__(self):\n",
        "\n",
        "        self.width = None\n",
        "        self.height = None\n",
        "        self.channels = None\n",
        "        self.time = None\n",
        "        self.stream = None\n",
        "        self.batch_size_train = None\n",
        "        self.batch_size_valid = None\n",
        "        self.batch_size_test = None\n",
        "        self.labels = None\n",
        "        self.ftr = None\n",
        "        self.ftv = None\n",
        "        self.fts = None\n",
        "        self.ftr_labels = None\n",
        "        self.ftv_labels = None\n",
        "        self.fts_labels = None\n",
        "        self.predictions = None\n",
        "\n",
        "    def generator3D(self,select = \"Train\"):\n",
        "        '''\n",
        "        The generator3D function reads a specifics type of data sample (Train, Test or Valid) and return incrementaly (define by the batch size) sequences of frames (also defines by the type of stream)\n",
        "        '''\n",
        "        tmp, tmp_labels, batch = None, None, None\n",
        "        \n",
        "        if select == \"Train\":\n",
        "            tmp, tmp_labels, batch = self.ftr, self.ftr_labels, self.batch_size_train\n",
        "        elif select == \"Valid\":\n",
        "            tmp, tmp_labels, batch = self.ftv, self.ftv_labels, self.batch_size_valid\n",
        "        elif select == \"Test\":\n",
        "            tmp, tmp_labels, batch = self.fts, self.fts_labels, self.batch_size_test\n",
        "        else:\n",
        "            print(\"Select : Train, Valid or Test\")\n",
        "            return None\n",
        "        \n",
        "        length_stream = len(self.stream.stream)\n",
        "\n",
        "        while True:\n",
        "\n",
        "            for count in range(int(len(tmp) / batch)):\n",
        "\n",
        "                batch_start = batch * count\n",
        "                batch_stop = batch + (batch * count)\n",
        "\n",
        "                lx1 = list()\n",
        "                ly = list()\n",
        "\n",
        "                for i in range(batch_start, batch_stop):\n",
        "                    fill_labels = []\n",
        "                    for cnt in range(length_stream):\n",
        "                      fill_labels.append(tmp_labels[i])\n",
        "                    if length_stream > 1:\n",
        "                      ly.append(fill_labels)\n",
        "                      lx1.append(self.stream.get_video_from_stream(tmp[i]))#return a list of list of frames (defferents type : RGB, Optical Flow...)\n",
        "                    else:\n",
        "                      ly.append(fill_labels[0])\n",
        "                      lx1.append(self.stream.get_video_from_stream(tmp[i])[0])\n",
        "                \n",
        "                x1 = np.array(lx1)\n",
        "                x1 = x1.astype('float32')\n",
        "                x1 /= 255\n",
        "\n",
        "                y = np.array(ly)\n",
        "                y = np_utils.to_categorical(y, len(self.labels))\n",
        "\n",
        "                if length_stream > 1:\n",
        "                  x1 = x1.reshape((x1.shape[0], length_stream ,self.time, self.height, self.width, self.channels))\n",
        "                else:\n",
        "                  x1 = x1.reshape((x1.shape[0] ,self.time, self.height, self.width, self.channels))\n",
        "\n",
        "                yield x1, y\n",
        "    \n",
        "       \n"
      ],
      "metadata": {
        "id": "1NMwunS0iO6i"
      },
      "execution_count": null,
      "outputs": []
    },
    {
      "cell_type": "code",
      "source": [
        "def get_class(folder):\n",
        "    '''\n",
        "    The get_class function reads a folder path and returns a list of class (class for the classification).\n",
        "    example of folder path (with or without '*' at the end) : #../input/real-life-violence-situations-dataset/Real Life Violence Dataset/*\n",
        "    '''\n",
        "\n",
        "    if folder[-1] != \"*\":\n",
        "        folder += \"*\"\n",
        "        \n",
        "    files = [i.split(os.path.sep)[-1] for i in glob.glob(folder)]\n",
        "    files.sort()\n",
        "    print(\n",
        "        \"Total class : %d\"\n",
        "        % (len(files))\n",
        "    )\n",
        "    return files"
      ],
      "metadata": {
        "id": "b3diqfk7Mf38"
      },
      "execution_count": null,
      "outputs": []
    },
    {
      "cell_type": "code",
      "source": [
        "def create_dataset(dataset_dir, k_validation = 2, shuffle= True, types = [\"RGB\"], shapes = (224, 224, 3),nb_frames = 50, batch_size = 13):\n",
        "    '''\n",
        "    The create_dataset function reads a list of directory path (list of the same dataset but different type of input) and returns a video generator.\n",
        "    If there are multiple directory, the file and folder in must have the same name (and architecture)\n",
        "    '''\n",
        "    X, y = list(), list()\n",
        "    multiple = len(dataset_dir) > 1\n",
        "    CLASSES_LIST = [\"NonViolence\",\"Violence\"]#get_class(dataset_dir[0]+\"*\")\n",
        "\n",
        "    if \"rlvs\" in dataset_dir[0]:\n",
        "        \n",
        "        for class_index, class_name in enumerate(CLASSES_LIST):\n",
        "          print(f'Extracting Data of Class: {class_name}')\n",
        "\n",
        "          # Get the list of video files present in the specific class name directory.\n",
        "          files_list = os.listdir(os.path.join(dataset_dir[0], class_name))\n",
        "          length = len(files_list)\n",
        "\n",
        "          with alive_bar(length, force_tty=True) as bar:\n",
        "              # Iterate through all the files present in the files list.\n",
        "              for file_name in files_list:\n",
        "                  # Get the complete video path.\n",
        "                  bar()\n",
        "                  tmp = []\n",
        "\n",
        "                  for dir in dataset_dir:\n",
        "                    tmp.append(os.path.join(dir, class_name, file_name))\n",
        "\n",
        "                  X.append(tmp)\n",
        "                  y.append(class_index)\n",
        "    else:\n",
        "        # Get the list of video files present in the specific class name directory.\n",
        "          files_list = os.listdir(dataset_dir[0])\n",
        "          length = len(files_list)\n",
        "\n",
        "          with alive_bar(length, force_tty=True) as bar:\n",
        "              # Iterate through all the files present in the files list.\n",
        "              for file_name in files_list:\n",
        "                  # Get the complete video path.\n",
        "                  bar()\n",
        "                  tmp = []\n",
        "\n",
        "                  for dir in dataset_dir:\n",
        "                    tmp.append(os.path.join(dir, file_name))\n",
        "\n",
        "                  X.append(tmp)\n",
        "                  y.append(0 if 'NV' in file_name else 1)\n",
        "\n",
        "    X = np.array(X)\n",
        "    y = np.array(y)\n",
        "\n",
        "    X_train, X_test, X_valid,y_train, y_test,y_valid = None, None, None, None, None, None\n",
        "\n",
        "    skf = StratifiedKFold(n_splits=k_validation, shuffle=shuffle, random_state=3)\n",
        "    for train_index, test_index in skf.split(X, y):\n",
        "        X_train, X_test = X[train_index], X[test_index]\n",
        "        y_train, y_test = y[train_index], y[test_index]\n",
        "\n",
        "    X_bis,X_train,y_bis,y_train = X_train,None,y_train,None\n",
        "\n",
        "    for train_index, valid_index in skf.split(X_bis, y_bis):\n",
        "        X_train, X_valid = X_bis[train_index], X_bis[valid_index]\n",
        "        y_train, y_valid = y_bis[train_index], y_bis[valid_index]\n",
        "\n",
        "    trainXY = list(zip(X_train, y_train))\n",
        "    testXY = list(zip(X_test, y_test))\n",
        "    validXY = list(zip(X_valid, y_valid))\n",
        "\n",
        "    random.shuffle(trainXY)\n",
        "    random.shuffle(testXY)\n",
        "    random.shuffle(validXY)\n",
        "\n",
        "    X_train, y_train = zip(*trainXY)\n",
        "    X_test, y_test = zip(*testXY)\n",
        "    X_valid, y_valid = zip(*validXY)\n",
        "\n",
        "    classifier = VideoGenerator()\n",
        "    classifier.labels = [i for i in range(len(CLASSES_LIST))]\n",
        "    classifier.ftr = X_train\n",
        "    classifier.fts = X_test\n",
        "    classifier.ftv = X_valid\n",
        "    classifier.ftr_labels = y_train\n",
        "    classifier.fts_labels = y_test\n",
        "    classifier.ftv_labels = y_valid\n",
        "    classifier.channels = shapes[2]\n",
        "    classifier.width = shapes[0]\n",
        "    classifier.height = shapes[1]\n",
        "    classifier.time = nb_frames\n",
        "    if len(dataset_dir) > 1:\n",
        "      classifier.stream = Stream_Features(classifier.width, classifier.height,classifier.time,[\"RGB\",\"RGB\"])\n",
        "    else:\n",
        "      classifier.stream = Stream_Features(classifier.width, classifier.height,classifier.time,types)\n",
        "    classifier.batch_size_train = batch_size\n",
        "    classifier.batch_size_valid = batch_size\n",
        "    classifier.batch_size_test = 1\n",
        "    \n",
        "    \n",
        "    return classifier"
      ],
      "metadata": {
        "id": "2wkvnMm2Mf39"
      },
      "execution_count": null,
      "outputs": []
    },
    {
      "cell_type": "markdown",
      "source": [
        "## Training and Evaluate Model"
      ],
      "metadata": {
        "id": "rGNPfdJf-Aae"
      }
    },
    {
      "cell_type": "code",
      "source": [
        "#for the logs make sure its in the good folder  (here colab adds a space in between when creating a notebook \"/content/drive/MyDrive/Colab Notebooks/\")\n",
        "dir = \"/content/drive/MyDrive/Colab_Notebooks/\"\n",
        "datasets_path = ['movies_fights/', 'hockey_fights/', 'violent_flows/', 'rlvs/']\n",
        "#make sure of the folder disposition and choose one dataset\n",
        "data_set = [dir + datasets_path[-1]]\n",
        "#list of directory path (list of the same dataset but different type of input)"
      ],
      "metadata": {
        "id": "sljfSOZRn8NQ"
      },
      "execution_count": null,
      "outputs": []
    },
    {
      "cell_type": "code",
      "source": [
        "k_validation = 2# k_validation equals 2 (lowest possible value)\n",
        "shuffle = True\n",
        "types = [\"RGB\"] #RGB , Optical_flow and/or Difference\n",
        "shape = (224, 224, 3)\n",
        "nb_frame = 25\n",
        "batch_size = 13\n",
        "\n",
        "video_gen = create_dataset(data_set,\n",
        "                          k_validation,\n",
        "                          shuffle, \n",
        "                          types, \n",
        "                          shape,\n",
        "                          nb_frame, \n",
        "                          batch_size)"
      ],
      "metadata": {
        "colab": {
          "base_uri": "https://localhost:8080/"
        },
        "id": "pn1zDIvvMf3_",
        "outputId": "a85b70c4-d4de-46f1-9baa-b522ab8d2abe"
      },
      "execution_count": null,
      "outputs": [
        {
          "output_type": "stream",
          "name": "stdout",
          "text": [
            "Extracting Data of Class: NonViolence\n",
            "|████████████████████████████████████████| 1000/1000 [100%] in 0.0s (161559.86/s)                                       \n",
            "Extracting Data of Class: Violence\n",
            "|████████████████████████████████████████| 1000/1000 [100%] in 0.0s (105482.45/s)                                       \n"
          ]
        }
      ]
    },
    {
      "cell_type": "markdown",
      "source": [
        "# Model"
      ],
      "metadata": {
        "id": "EwRPFbtSCadJ"
      }
    },
    {
      "cell_type": "code",
      "source": [
        "from tensorflow.keras.applications.vgg19 import VGG19\n",
        "\n",
        "def VGG19_MODEL():\n",
        "\n",
        "    vgg19_model = VGG19(include_top=False, weights='imagenet')\n",
        "\n",
        "    vgg19_model.trainable=False\n",
        "\n",
        "    for layer in vgg19_model.layers:\n",
        "        layer.trainable=False\n",
        "\n",
        "    #mobilenet.summary()\n",
        "    return vgg19_model"
      ],
      "metadata": {
        "id": "dgv1GCMLCaEo"
      },
      "execution_count": null,
      "outputs": []
    },
    {
      "cell_type": "code",
      "source": [
        "def create_model():\n",
        " \n",
        "    model = Sequential()\n",
        "\n",
        "    ########################################################################################################################\n",
        "    cnn = Sequential()\n",
        "    cnn.add(VGG19_MODEL())\n",
        "    cnn.add(Flatten())\n",
        "    \n",
        "    #Specifying Input to match features shape\n",
        "    #model.add(Input(shape=))\n",
        "    model.add(TimeDistributed(cnn,input_shape = (video_gen.time, video_gen.height, video_gen.width, video_gen.channels)))\n",
        "    # Passing mobilenet in the TimeDistributed layer to handle the sequence\n",
        "    \n",
        "    model.add(Dropout(0.25))\n",
        "                                    \n",
        "    model.add(TimeDistributed(Flatten()))\n",
        "\n",
        "    \n",
        "    lstm_fw = LSTM(32)\n",
        "    lstm_bw = LSTM(32, go_backwards = True)  \n",
        "\n",
        "    model.add(Bidirectional(lstm_fw, backward_layer = lstm_bw))\n",
        "    \n",
        "    model.add(Dropout(0.25))\n",
        "\n",
        "    model.add(Dense(256,activation='relu'))\n",
        "    model.add(Dropout(0.25))\n",
        "\n",
        "    model.add(Dense(128,activation='relu'))\n",
        "    model.add(Dropout(0.25))\n",
        "\n",
        "    model.add(Dense(64,activation='relu'))\n",
        "    model.add(Dropout(0.25))\n",
        "\n",
        "    model.add(Dense(32,activation='relu'))\n",
        "    model.add(Dropout(0.25))\n",
        "    \n",
        "    \n",
        "    model.add(Dense(len(video_gen.labels), activation = 'softmax'))\n",
        " \n",
        "    ########################################################################################################################\n",
        " \n",
        "    model.summary()\n",
        "    \n",
        "    return model"
      ],
      "metadata": {
        "id": "-1P8cDArCe5O"
      },
      "execution_count": null,
      "outputs": []
    },
    {
      "cell_type": "markdown",
      "source": [
        "# Specifying Callbacks and Fitting"
      ],
      "metadata": {
        "id": "o1axmI-ACpxU"
      }
    },
    {
      "cell_type": "code",
      "source": [
        "!pip install tensorflow_addons"
      ],
      "metadata": {
        "colab": {
          "base_uri": "https://localhost:8080/"
        },
        "id": "TUZc9SloEEyo",
        "outputId": "634351f0-50ff-4395-f4b3-c0579d4b1650"
      },
      "execution_count": null,
      "outputs": [
        {
          "output_type": "stream",
          "name": "stdout",
          "text": [
            "Looking in indexes: https://pypi.org/simple, https://us-python.pkg.dev/colab-wheels/public/simple/\n",
            "Collecting tensorflow_addons\n",
            "  Downloading tensorflow_addons-0.19.0-cp38-cp38-manylinux_2_17_x86_64.manylinux2014_x86_64.whl (1.1 MB)\n",
            "\u001b[2K     \u001b[90m━━━━━━━━━━━━━━━━━━━━━━━━━━━━━━━━━━━━━━━━\u001b[0m \u001b[32m1.1/1.1 MB\u001b[0m \u001b[31m22.7 MB/s\u001b[0m eta \u001b[36m0:00:00\u001b[0m\n",
            "\u001b[?25hRequirement already satisfied: packaging in /usr/local/lib/python3.8/dist-packages (from tensorflow_addons) (21.3)\n",
            "Requirement already satisfied: typeguard>=2.7 in /usr/local/lib/python3.8/dist-packages (from tensorflow_addons) (2.7.1)\n",
            "Requirement already satisfied: pyparsing!=3.0.5,>=2.0.2 in /usr/local/lib/python3.8/dist-packages (from packaging->tensorflow_addons) (3.0.9)\n",
            "Installing collected packages: tensorflow_addons\n",
            "Successfully installed tensorflow_addons-0.19.0\n"
          ]
        }
      ]
    },
    {
      "cell_type": "code",
      "source": [
        "# Load the TensorBoard notebook extension\n",
        "#%load_ext tensorboard.notebook\n",
        "%load_ext tensorboard"
      ],
      "metadata": {
        "id": "8Oo4zHpby_VT"
      },
      "execution_count": null,
      "outputs": []
    },
    {
      "cell_type": "code",
      "source": [
        "#import tensorflow_addons as tfa\n",
        "\n",
        "# Constructing the Model\n",
        "# Create a MirroredStrategy.\n",
        "if (tpu is False):\n",
        "    strategy = tf.distribute.MirroredStrategy()\n",
        "    print('Number of devices: {}'.format(strategy.num_replicas_in_sync))\n",
        "    \n",
        "with strategy.scope():\n",
        "    VGG19_model = create_model()\n",
        "\n",
        "    save_locally = tf.saved_model.SaveOptions(experimental_io_device='/job:localhost')\n",
        "\n",
        "    model_checkpoints = ModelCheckpoint(filepath=dir + 'Results/ModelWeights.h5',\n",
        "                                    #save_weights_only=True,\n",
        "                                    monitor='val_loss',\n",
        "                                    mode='min',\n",
        "                                    verbose = 1,\n",
        "                                    save_best_only=True,\n",
        "                                    options=save_locally\n",
        "                               )\n",
        "\n",
        "    # Create Early Stopping Callback to monitor the accuracy\n",
        "    early_stopping_callback = EarlyStopping(monitor = 'val_categorical_accuracy', patience = 10, restore_best_weights = True)\n",
        "\n",
        "    # Create ReduceLROnPlateau Callback to reduce overfitting by decreasing learning\n",
        "    reduce_lr = tf.keras.callbacks.ReduceLROnPlateau(monitor='val_loss',\n",
        "                                              factor=0.6,\n",
        "                                              patience=5,\n",
        "                                              min_lr=0.00005,\n",
        "                                              verbose=1)\n",
        "    \n",
        "    logdir = os.path.join(dir + \"Results/logs\", dt.datetime.now().strftime(\"%Y%m%d-%H%M%S\"))\n",
        "    tensorboard_callback = tf.keras.callbacks.TensorBoard(logdir, histogram_freq=1)\n",
        "\n",
        "\n",
        "    #f1_score = tfa.metrics.F1Score(average='macro' , num_classes= len(video_gen.labels))\n",
        "    # Compiling the model \n",
        "    VGG19_model.compile(loss = 'categorical_crossentropy', \n",
        "                   optimizer = tf.keras.optimizers.Adam(lr = 0.0001), \n",
        "                   metrics = [tf.keras.metrics.CategoricalAccuracy()])\n",
        "    #there also Adam, AdaDelta, sgd..."
      ],
      "metadata": {
        "colab": {
          "base_uri": "https://localhost:8080/"
        },
        "id": "uBRNh0NmCr4M",
        "outputId": "9d9c67d9-d061-4c5e-fe2e-adf82f9dc08a"
      },
      "execution_count": null,
      "outputs": [
        {
          "output_type": "stream",
          "name": "stdout",
          "text": [
            "Model: \"sequential_16\"\n",
            "_________________________________________________________________\n",
            " Layer (type)                Output Shape              Param #   \n",
            "=================================================================\n",
            " time_distributed_12 (TimeDi  (None, 25, 25088)        20024384  \n",
            " stributed)                                                      \n",
            "                                                                 \n",
            " dropout_30 (Dropout)        (None, 25, 25088)         0         \n",
            "                                                                 \n",
            " time_distributed_13 (TimeDi  (None, 25, 25088)        0         \n",
            " stributed)                                                      \n",
            "                                                                 \n",
            " bidirectional_5 (Bidirectio  (None, 64)               6430976   \n",
            " nal)                                                            \n",
            "                                                                 \n",
            " dropout_31 (Dropout)        (None, 64)                0         \n",
            "                                                                 \n",
            " dense_24 (Dense)            (None, 256)               16640     \n",
            "                                                                 \n",
            " dropout_32 (Dropout)        (None, 256)               0         \n",
            "                                                                 \n",
            " dense_25 (Dense)            (None, 128)               32896     \n",
            "                                                                 \n",
            " dropout_33 (Dropout)        (None, 128)               0         \n",
            "                                                                 \n",
            " dense_26 (Dense)            (None, 64)                8256      \n",
            "                                                                 \n",
            " dropout_34 (Dropout)        (None, 64)                0         \n",
            "                                                                 \n",
            " dense_27 (Dense)            (None, 32)                2080      \n",
            "                                                                 \n",
            " dropout_35 (Dropout)        (None, 32)                0         \n",
            "                                                                 \n",
            " dense_28 (Dense)            (None, 2)                 66        \n",
            "                                                                 \n",
            "=================================================================\n",
            "Total params: 26,515,298\n",
            "Trainable params: 6,490,914\n",
            "Non-trainable params: 20,024,384\n",
            "_________________________________________________________________\n"
          ]
        }
      ]
    },
    {
      "cell_type": "code",
      "source": [
        "# Plot the structure of the contructed LRCN model.\n",
        "plot_model(VGG19_model, to_file = 'VGG19_model_structure_plot.png', show_shapes = True, show_layer_names = True)"
      ],
      "metadata": {
        "colab": {
          "base_uri": "https://localhost:8080/",
          "height": 1000
        },
        "id": "_yHNMc11EUdB",
        "outputId": "36d89d3c-6162-48cf-c85a-32094af602b8"
      },
      "execution_count": null,
      "outputs": [
        {
          "output_type": "execute_result",
          "data": {
            "image/png": "[encoded data removed]",
            "text/plain": [
              "<IPython.core.display.Image object>"
            ]
          },
          "metadata": {},
          "execution_count": 16
        }
      ]
    },
    {
      "cell_type": "code",
      "source": [
        "def generator_function():\n",
        "    return video_gen.generator3D(\"Train\")\n",
        "\n",
        "def generator_function_valid():\n",
        "    return video_gen.generator3D(\"Valid\")\n",
        "\n",
        "def generator_function_test():\n",
        "    return video_gen.generator3D(\"Test\")"
      ],
      "metadata": {
        "id": "v8RquKwxarVj"
      },
      "execution_count": null,
      "outputs": []
    },
    {
      "cell_type": "code",
      "source": [
        "output_signature = (tf.TensorSpec(shape = (video_gen.batch_size_train, video_gen.time, video_gen.width, video_gen.height, video_gen.channels), dtype = tf.float32),\n",
        "                    tf.TensorSpec(shape = (video_gen.batch_size_train,2), dtype = tf.int16))\n",
        "\n",
        "train_ds = tf.data.Dataset.from_generator(generator_function,output_signature = output_signature)\n",
        "valid_ds = tf.data.Dataset.from_generator(generator_function_valid,output_signature = output_signature)\n",
        "\n",
        "output_signature = (tf.TensorSpec(shape = (video_gen.batch_size_test, video_gen.time, video_gen.width, video_gen.height, video_gen.channels), dtype = tf.float32),\n",
        "                    tf.TensorSpec(shape = (video_gen.batch_size_test,2), dtype = tf.int16))\n",
        "\n",
        "test_ds = tf.data.Dataset.from_generator(generator_function_test,output_signature = output_signature)\n",
        "\n",
        "#attention RAM prefetch\n",
        "AUTOTUNE = tf.data.experimental.AUTOTUNE\n",
        "train_ds = train_ds.apply(tf.data.experimental.assert_cardinality(len(video_gen.ftr )//video_gen.batch_size_train)).prefetch(buffer_size=AUTOTUNE).cache()#.batch(BS,num_parallel_calls=True)\n",
        "test_ds = test_ds.apply(tf.data.experimental.assert_cardinality(len(video_gen.fts )//video_gen.batch_size_test)).prefetch(buffer_size=AUTOTUNE).cache()#.batch(BS,num_parallel_calls=True)\n",
        "valid_ds = valid_ds.apply(tf.data.experimental.assert_cardinality(len(video_gen.ftv )//video_gen.batch_size_valid)).prefetch(buffer_size=AUTOTUNE).cache()#.batch(BS,num_parallel_calls=True)\n"
      ],
      "metadata": {
        "id": "oA0BcL5XVn6A"
      },
      "execution_count": null,
      "outputs": []
    },
    {
      "cell_type": "code",
      "source": [
        "#iteration = 1\n",
        "\n",
        "#restore the best weights\n",
        "#MoBiLSTM_model.load_weights('ModelWeights.h5')\n",
        "# Fitting the model \n",
        "history = VGG19_model.fit(train_ds,#video_gen.generator3D(\"Test\")\n",
        "                          validation_data = valid_ds,#video_gen.generator3D(\"Valid\")\n",
        "                          epochs = 1, \n",
        "                          batch_size = video_gen.batch_size_train,\n",
        "                          #shuffle = shuffle,\n",
        "                          #validation_split = 0.2, \n",
        "                          callbacks = [early_stopping_callback,model_checkpoints,reduce_lr, tensorboard_callback],\n",
        "                          #verbose=1,\n",
        "                          steps_per_epoch=int(len(video_gen.ftr) / video_gen.batch_size_train)\n",
        "                  )\n",
        "#model_checkpoints"
      ],
      "metadata": {
        "id": "qCIAGXlDiWOi",
        "colab": {
          "base_uri": "https://localhost:8080/"
        },
        "outputId": "71077f80-13c8-4135-94e3-d714e9cab4ba"
      },
      "execution_count": null,
      "outputs": [
        {
          "output_type": "stream",
          "name": "stdout",
          "text": [
            "Epoch 1/10\n",
            "38/38 [==============================] - ETA: 0s - loss: 0.7023 - categorical_accuracy: 0.4858"
          ]
        },
        {
          "output_type": "stream",
          "name": "stderr",
          "text": [
            "WARNING:tensorflow:Early stopping conditioned on metric `accuracy` which is not available. Available metrics are: loss,categorical_accuracy,val_loss,val_categorical_accuracy\n"
          ]
        },
        {
          "output_type": "stream",
          "name": "stdout",
          "text": [
            "\n",
            "Epoch 1: loss improved from inf to 0.70230, saving model to /content/drive/MyDrive/Colab_Notebooks/Results/ModelWeights.h5\n",
            "38/38 [==============================] - 289s 7s/step - loss: 0.7023 - categorical_accuracy: 0.4858 - val_loss: 0.6922 - val_categorical_accuracy: 0.4980 - lr: 1.0000e-04\n",
            "Epoch 2/10\n",
            "38/38 [==============================] - ETA: 0s - loss: 0.6986 - categorical_accuracy: 0.4798"
          ]
        },
        {
          "output_type": "stream",
          "name": "stderr",
          "text": [
            "WARNING:tensorflow:Early stopping conditioned on metric `accuracy` which is not available. Available metrics are: loss,categorical_accuracy,val_loss,val_categorical_accuracy\n"
          ]
        },
        {
          "output_type": "stream",
          "name": "stdout",
          "text": [
            "\n",
            "Epoch 2: loss improved from 0.70230 to 0.69859, saving model to /content/drive/MyDrive/Colab_Notebooks/Results/ModelWeights.h5\n",
            "38/38 [==============================] - 22s 586ms/step - loss: 0.6986 - categorical_accuracy: 0.4798 - val_loss: 0.6855 - val_categorical_accuracy: 0.7267 - lr: 1.0000e-04\n",
            "Epoch 3/10\n",
            "38/38 [==============================] - ETA: 0s - loss: 0.6875 - categorical_accuracy: 0.5405"
          ]
        },
        {
          "output_type": "stream",
          "name": "stderr",
          "text": [
            "WARNING:tensorflow:Early stopping conditioned on metric `accuracy` which is not available. Available metrics are: loss,categorical_accuracy,val_loss,val_categorical_accuracy\n"
          ]
        },
        {
          "output_type": "stream",
          "name": "stdout",
          "text": [
            "\n",
            "Epoch 3: loss improved from 0.69859 to 0.68754, saving model to /content/drive/MyDrive/Colab_Notebooks/Results/ModelWeights.h5\n",
            "38/38 [==============================] - 22s 590ms/step - loss: 0.6875 - categorical_accuracy: 0.5405 - val_loss: 0.6858 - val_categorical_accuracy: 0.5789 - lr: 1.0000e-04\n",
            "Epoch 4/10\n",
            "38/38 [==============================] - ETA: 0s - loss: 0.6755 - categorical_accuracy: 0.5972"
          ]
        },
        {
          "output_type": "stream",
          "name": "stderr",
          "text": [
            "WARNING:tensorflow:Early stopping conditioned on metric `accuracy` which is not available. Available metrics are: loss,categorical_accuracy,val_loss,val_categorical_accuracy\n"
          ]
        },
        {
          "output_type": "stream",
          "name": "stdout",
          "text": [
            "\n",
            "Epoch 4: loss improved from 0.68754 to 0.67549, saving model to /content/drive/MyDrive/Colab_Notebooks/Results/ModelWeights.h5\n",
            "38/38 [==============================] - 22s 585ms/step - loss: 0.6755 - categorical_accuracy: 0.5972 - val_loss: 0.6450 - val_categorical_accuracy: 0.7348 - lr: 1.0000e-04\n",
            "Epoch 5/10\n",
            "38/38 [==============================] - ETA: 0s - loss: 0.6690 - categorical_accuracy: 0.5951"
          ]
        },
        {
          "output_type": "stream",
          "name": "stderr",
          "text": [
            "WARNING:tensorflow:Early stopping conditioned on metric `accuracy` which is not available. Available metrics are: loss,categorical_accuracy,val_loss,val_categorical_accuracy\n"
          ]
        },
        {
          "output_type": "stream",
          "name": "stdout",
          "text": [
            "\n",
            "Epoch 5: loss improved from 0.67549 to 0.66900, saving model to /content/drive/MyDrive/Colab_Notebooks/Results/ModelWeights.h5\n",
            "38/38 [==============================] - 22s 587ms/step - loss: 0.6690 - categorical_accuracy: 0.5951 - val_loss: 0.6267 - val_categorical_accuracy: 0.7611 - lr: 1.0000e-04\n",
            "Epoch 6/10\n",
            "38/38 [==============================] - ETA: 0s - loss: 0.6121 - categorical_accuracy: 0.6802"
          ]
        },
        {
          "output_type": "stream",
          "name": "stderr",
          "text": [
            "WARNING:tensorflow:Early stopping conditioned on metric `accuracy` which is not available. Available metrics are: loss,categorical_accuracy,val_loss,val_categorical_accuracy\n"
          ]
        },
        {
          "output_type": "stream",
          "name": "stdout",
          "text": [
            "\n",
            "Epoch 6: loss improved from 0.66900 to 0.61210, saving model to /content/drive/MyDrive/Colab_Notebooks/Results/ModelWeights.h5\n",
            "38/38 [==============================] - 22s 600ms/step - loss: 0.6121 - categorical_accuracy: 0.6802 - val_loss: 0.5614 - val_categorical_accuracy: 0.7611 - lr: 1.0000e-04\n",
            "Epoch 7/10\n",
            "38/38 [==============================] - ETA: 0s - loss: 0.5938 - categorical_accuracy: 0.7126"
          ]
        },
        {
          "output_type": "stream",
          "name": "stderr",
          "text": [
            "WARNING:tensorflow:Early stopping conditioned on metric `accuracy` which is not available. Available metrics are: loss,categorical_accuracy,val_loss,val_categorical_accuracy\n"
          ]
        },
        {
          "output_type": "stream",
          "name": "stdout",
          "text": [
            "\n",
            "Epoch 7: loss improved from 0.61210 to 0.59376, saving model to /content/drive/MyDrive/Colab_Notebooks/Results/ModelWeights.h5\n",
            "38/38 [==============================] - 22s 587ms/step - loss: 0.5938 - categorical_accuracy: 0.7126 - val_loss: 0.6803 - val_categorical_accuracy: 0.5243 - lr: 1.0000e-04\n",
            "Epoch 8/10\n",
            "38/38 [==============================] - ETA: 0s - loss: 0.5419 - categorical_accuracy: 0.7490"
          ]
        },
        {
          "output_type": "stream",
          "name": "stderr",
          "text": [
            "WARNING:tensorflow:Early stopping conditioned on metric `accuracy` which is not available. Available metrics are: loss,categorical_accuracy,val_loss,val_categorical_accuracy\n"
          ]
        },
        {
          "output_type": "stream",
          "name": "stdout",
          "text": [
            "\n",
            "Epoch 8: loss improved from 0.59376 to 0.54193, saving model to /content/drive/MyDrive/Colab_Notebooks/Results/ModelWeights.h5\n",
            "38/38 [==============================] - 22s 589ms/step - loss: 0.5419 - categorical_accuracy: 0.7490 - val_loss: 0.4730 - val_categorical_accuracy: 0.8036 - lr: 1.0000e-04\n",
            "Epoch 9/10\n",
            "38/38 [==============================] - ETA: 0s - loss: 0.4890 - categorical_accuracy: 0.7935"
          ]
        },
        {
          "output_type": "stream",
          "name": "stderr",
          "text": [
            "WARNING:tensorflow:Early stopping conditioned on metric `accuracy` which is not available. Available metrics are: loss,categorical_accuracy,val_loss,val_categorical_accuracy\n"
          ]
        },
        {
          "output_type": "stream",
          "name": "stdout",
          "text": [
            "\n",
            "Epoch 9: loss improved from 0.54193 to 0.48902, saving model to /content/drive/MyDrive/Colab_Notebooks/Results/ModelWeights.h5\n",
            "38/38 [==============================] - 22s 585ms/step - loss: 0.4890 - categorical_accuracy: 0.7935 - val_loss: 0.4655 - val_categorical_accuracy: 0.8057 - lr: 1.0000e-04\n",
            "Epoch 10/10\n",
            "38/38 [==============================] - ETA: 0s - loss: 0.4894 - categorical_accuracy: 0.7672"
          ]
        },
        {
          "output_type": "stream",
          "name": "stderr",
          "text": [
            "WARNING:tensorflow:Early stopping conditioned on metric `accuracy` which is not available. Available metrics are: loss,categorical_accuracy,val_loss,val_categorical_accuracy\n"
          ]
        },
        {
          "output_type": "stream",
          "name": "stdout",
          "text": [
            "\n",
            "Epoch 10: loss did not improve from 0.48902\n",
            "38/38 [==============================] - 21s 556ms/step - loss: 0.4894 - categorical_accuracy: 0.7672 - val_loss: 0.3998 - val_categorical_accuracy: 0.8300 - lr: 1.0000e-04\n"
          ]
        }
      ]
    },
    {
      "cell_type": "code",
      "source": [
        "%tensorboard --logdir logs"
      ],
      "metadata": {
        "id": "7gtHDGc1zvXA"
      },
      "execution_count": null,
      "outputs": []
    },
    {
      "cell_type": "code",
      "source": [
        "history = VGG19_model.fit(train_ds,#video_gen.generator3D(\"Test\")\n",
        "                          validation_data = valid_ds,#video_gen.generator3D(\"Valid\")\n",
        "                          epochs = 10, \n",
        "                          batch_size = video_gen.batch_size_train,\n",
        "                          #shuffle = shuffle,\n",
        "                          #validation_split = 0.2, \n",
        "                          callbacks = [early_stopping_callback,model_checkpoints,reduce_lr, tensorboard_callback],\n",
        "                          #verbose=1,\n",
        "                          steps_per_epoch=int(len(video_gen.ftr) / video_gen.batch_size_train)\n",
        "                  )"
      ],
      "metadata": {
        "id": "wE2JdubU0XDD"
      },
      "execution_count": null,
      "outputs": []
    },
    {
      "cell_type": "code",
      "source": [
        "#from tensorboard import notebook\n",
        "#notebook.list() # View open TensorBoard instances\n",
        "#notebook.display(port=6006, height=1000) "
      ],
      "metadata": {
        "id": "CkHJXaAt04tu"
      },
      "execution_count": null,
      "outputs": []
    },
    {
      "cell_type": "code",
      "source": [
        "print(history.history.keys())\n",
        "# summarize history for accuracy\n",
        "plt.plot(history.history['categorical_accuracy'])\n",
        "plt.title('model accuracy')\n",
        "plt.ylabel('accuracy')\n",
        "plt.xlabel('epoch')\n",
        "plt.legend(['train'], loc='upper left')\n",
        "plt.show()"
      ],
      "metadata": {
        "pycharm": {
          "name": "#%%\n"
        },
        "jupyter": {
          "outputs_hidden": false
        },
        "colab": {
          "base_uri": "https://localhost:8080/",
          "height": 312
        },
        "id": "IsIi3K1sMf4A",
        "outputId": "ae419faf-6301-4bbc-ee76-1d106f031bf3"
      },
      "execution_count": null,
      "outputs": [
        {
          "output_type": "stream",
          "name": "stdout",
          "text": [
            "dict_keys(['loss', 'categorical_accuracy', 'val_loss', 'val_categorical_accuracy', 'lr'])\n"
          ]
        },
        {
          "output_type": "display_data",
          "data": {
            "text/plain": [
              "<Figure size 432x288 with 1 Axes>"
            ],
            "image/png": "[encoded data removed]"
          },
          "metadata": {
            "needs_background": "light"
          }
        }
      ]
    },
    {
      "cell_type": "code",
      "source": [
        "# summarize history for loss\n",
        "plt.plot(history.history['loss'])\n",
        "plt.title('model loss')\n",
        "plt.ylabel('loss')\n",
        "plt.xlabel('epoch')\n",
        "plt.legend(['train'], loc='upper left')\n",
        "plt.show()"
      ],
      "metadata": {
        "pycharm": {
          "name": "#%%\n"
        },
        "jupyter": {
          "outputs_hidden": false
        },
        "colab": {
          "base_uri": "https://localhost:8080/",
          "height": 294
        },
        "id": "Zy5sU-KgMf4B",
        "outputId": "12c1c748-4b55-4836-d6f3-e632233715e4"
      },
      "execution_count": null,
      "outputs": [
        {
          "output_type": "display_data",
          "data": {
            "text/plain": [
              "<Figure size 432x288 with 1 Axes>"
            ],
            "image/png": "[encoded data removed]"
          },
          "metadata": {
            "needs_background": "light"
          }
        }
      ]
    },
    {
      "cell_type": "code",
      "source": [
        "start = time.time()\n",
        "video_gen.predictions = VGG19_model.predict(test_ds,\n",
        "                                       steps=len(video_gen.fts) / video_gen.batch_size_test,\n",
        "                                       max_queue_size=10,\n",
        "                                       verbose=2)\n",
        "end = time.time()\n",
        "print('Inference time: ' + str((end - start)/len(video_gen.fts)))\n",
        "\n",
        "video_gen.predictions = np.argmax(video_gen.predictions, axis=1)\n",
        "test_accuracy = sklearn.metrics.accuracy_score(video_gen.fts_labels, video_gen.predictions, normalize=True)"
      ],
      "metadata": {
        "pycharm": {
          "name": "#%%\n"
        },
        "jupyter": {
          "outputs_hidden": false
        },
        "colab": {
          "base_uri": "https://localhost:8080/"
        },
        "id": "9WChfbSBMf4B",
        "outputId": "d88aae15-9334-4424-9124-94395a62c307"
      },
      "execution_count": null,
      "outputs": [
        {
          "output_type": "stream",
          "name": "stdout",
          "text": [
            "1000/1000 - 102s - 102s/epoch - 102ms/step\n",
            "Inference time: 0.10226708149909973\n"
          ]
        }
      ]
    },
    {
      "cell_type": "code",
      "source": [
        "VGG19_model.save(dir + 'Results/VG19_model.h5')"
      ],
      "metadata": {
        "pycharm": {
          "name": "#%%\n"
        },
        "jupyter": {
          "outputs_hidden": false
        },
        "id": "bbfshutyMf4C"
      },
      "execution_count": null,
      "outputs": []
    },
    {
      "cell_type": "code",
      "source": [
        "print('Accurcay Score: ' + str(test_accuracy))"
      ],
      "metadata": {
        "pycharm": {
          "name": "#%%\n"
        },
        "jupyter": {
          "outputs_hidden": false
        },
        "colab": {
          "base_uri": "https://localhost:8080/"
        },
        "id": "lpstQ7ZVMf4C",
        "outputId": "644fa6d6-a72c-41c1-9fa6-19b284ce51bb"
      },
      "execution_count": null,
      "outputs": [
        {
          "output_type": "stream",
          "name": "stdout",
          "text": [
            "Accurcay Score: 0.805\n"
          ]
        }
      ]
    },
    {
      "cell_type": "code",
      "source": [
        "#add confusion matrix"
      ],
      "metadata": {
        "id": "FwNKvhxUmMnW"
      },
      "execution_count": null,
      "outputs": []
    },
    {
      "cell_type": "code",
      "source": [
        "tf.compat.v1.enable_eager_execution()\n",
        "graph = tf.compat.v1.get_default_graph()"
      ],
      "metadata": {
        "id": "OyqZ9LBxrsMY"
      },
      "execution_count": null,
      "outputs": []
    },
    {
      "cell_type": "code",
      "source": [
        "session = tf.compat.v1.Session()\n",
        "graph = tf.compat.v1.get_default_graph()\n",
        "#When you call base_model(input_data) it does not perform an actual computation, it just constructs the computation graph and returns the result tensor.\n",
        "#It is only when you run a session, that the computation is performed and the output is generated.\n",
        "\n",
        "#In this case, the code is specifically measuring the FLOPS and memory consumption of the model, and not the output of the model. So there is no need to run the session, since the profiler is only analyzing the operations and tensors in the graph.\n",
        "#However, to measure the inference time, you need to feed data to the model and run the session, because the profiler is not able to measure the time taken to run the forward pass of the model.\n",
        "\n",
        "with graph.as_default():\n",
        "    with session.as_default():\n",
        "        base_model = VGG19_model\n",
        "        run_meta = tf.compat.v1.RunMetadata()\n",
        "        opts = tf.compat.v1.profiler.ProfileOptionBuilder.float_operation()\n",
        "\n",
        "        # We use the Keras session graph in the call to the profiler.\n",
        "        flops = tf.compat.v1.profiler.profile(graph=graph,\n",
        "                                              run_meta=run_meta, cmd='op', options=opts)\n",
        "        \n",
        "        opts = tf.compat.v1.profiler.ProfileOptionBuilder.trainable_variables_parameter()\n",
        "        params = tf.compat.v1.profiler.profile(graph, run_meta=run_meta, cmd='op', options=opts)\n",
        "        # Print the FLOPS\n",
        "        #flops = profiler.flops()\n",
        "        print(\"Total FLOPS: \", flops.total_float_ops)\n",
        "        # Print the memory consumption\n",
        "        #memory_use = profiler.memory()\n",
        "        print(\"Total memory consumption: \", params.total_parameters)"
      ],
      "metadata": {
        "colab": {
          "base_uri": "https://localhost:8080/"
        },
        "id": "ujD5EMVMt7He",
        "outputId": "5693522d-b9be-4105-dc93-f8195ef11800"
      },
      "execution_count": null,
      "outputs": [
        {
          "output_type": "stream",
          "name": "stdout",
          "text": [
            "Total FLOPS:  117332702921\n",
            "Total memory consumption:  219164874\n"
          ]
        }
      ]
    },
    {
      "cell_type": "code",
      "source": [
        "tf.compat.v1.reset_default_graph()\n",
        "tf.compat.v1.disable_eager_execution()"
      ],
      "metadata": {
        "id": "LkGMMaimuqi3"
      },
      "execution_count": null,
      "outputs": []
    },
    {
      "cell_type": "code",
      "source": [
        "#iteration += 1"
      ],
      "metadata": {
        "pycharm": {
          "name": "#%%\n"
        },
        "jupyter": {
          "outputs_hidden": false
        },
        "id": "ILyskci8Mf4C"
      },
      "execution_count": null,
      "outputs": []
    }
  ]
}